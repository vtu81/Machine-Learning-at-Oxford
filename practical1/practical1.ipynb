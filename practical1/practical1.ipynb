{
 "cells": [
  {
   "cell_type": "markdown",
   "metadata": {},
   "source": [
    "# Practical 1\n",
    "\n",
    "> Tinghao(Vitus) Xie"
   ]
  },
  {
   "cell_type": "code",
   "execution_count": 117,
   "metadata": {},
   "outputs": [],
   "source": [
    "import _pickle as cp\n",
    "import numpy as np\n",
    "from matplotlib import pyplot as plt\n",
    "\n",
    "# Load data from disk\n",
    "X, y = cp.load(open('winequality-white.pickle', 'rb'))\n",
    "\n",
    "# Split data\n",
    "N, D = X.shape\n",
    "N_train = int(0.8 * N)\n",
    "N_test = N - N_train\n",
    "\n",
    "X_train = X[:N_train]\n",
    "y_train = y[:N_train]\n",
    "X_test = X[N_train:]\n",
    "y_test = y[N_train:]"
   ]
  },
  {
   "cell_type": "markdown",
   "metadata": {},
   "source": [
    "## Understanding What We're Predicting"
   ]
  },
  {
   "cell_type": "markdown",
   "metadata": {},
   "source": [
    "### **Handin 1**: Make a bar chart showing the distribution of $y$ values appearing in the training set."
   ]
  },
  {
   "cell_type": "code",
   "execution_count": 23,
   "metadata": {},
   "outputs": [
    {
     "data": {
      "image/png": "[encoded data removed]",
      "text/plain": [
       "<Figure size 432x288 with 1 Axes>"
      ]
     },
     "metadata": {
      "needs_background": "light"
     },
     "output_type": "display_data"
    }
   ],
   "source": [
    "data = [(y_train == i).sum() for i in range(3, 10)]\n",
    "plt.bar(range(3, 10), data)\n",
    "plt.title('White Wine Quality Distribution')\n",
    "plt.xlabel('Quality')\n",
    "plt.ylabel('#Wines')\n",
    "plt.show()"
   ]
  },
  {
   "cell_type": "markdown",
   "metadata": {},
   "source": [
    "### **Handin 2**: Report the mean squared error, i.e., the average of the squared residuals, using this simplest of predictors on the training and test data."
   ]
  },
  {
   "cell_type": "code",
   "execution_count": 68,
   "metadata": {},
   "outputs": [
    {
     "name": "stdout",
     "output_type": "stream",
     "text": [
      "Prediction is always 5.87790935075541\n",
      "Mean squared error on training set is 0.7767779702311379\n",
      "Mean squared error on test set is 0.8138507187613643\n"
     ]
    }
   ],
   "source": [
    "y_train_avg = y.mean() # Average, will be used as our prediction temporarily\n",
    "print(\"Prediction is always\", y_train_avg)\n",
    "print(\"Mean squared error on training set is\", ((y_train - y_train_avg) ** 2).sum() / y_train.shape[0])\n",
    "print(\"Mean squared error on test set is\", ((y_test - y_train_avg) ** 2).sum() / y_test.shape[0])"
   ]
  },
  {
   "cell_type": "markdown",
   "metadata": {},
   "source": [
    "## Linear Model Using Least Squares\n",
    "\n",
    "First standardize the training data."
   ]
  },
  {
   "cell_type": "code",
   "execution_count": 69,
   "metadata": {},
   "outputs": [],
   "source": [
    "# Get the original mean and variance\n",
    "X_train_mean = X_train.mean(axis=0)\n",
    "X_train_var = X_train.var(axis=0)\n",
    "\n",
    "# Standardize the features\n",
    "X_train_standard = (X_train - X_train_mean) / np.sqrt(X_train_var)\n",
    "X_test_standard = (X_test - X_train_mean) / np.sqrt(X_train_var)\n",
    "\n",
    "# Also standardize the outputs to [-1, 1] for removing the bias term\n",
    "y_train_standard = (y_train - 6) / 3"
   ]
  },
  {
   "cell_type": "markdown",
   "metadata": {},
   "source": [
    "We don't need to consider about the constant term in the linear model now. So The linear model's closed form solution would simply be:\n",
    "\n",
    "$$\n",
    "\\hat{\\textbf y}=\\textbf X \\textbf w=\\textbf X_{train}(\\textbf X_{train}^T\\textbf X_{train})^{-1}\\textbf X_{train}^T\\textbf y\\\\\n",
    "or\\ \\textbf w=(\\textbf X_{train}^T\\textbf X_{train})^{-1}\\textbf X_{train}^T \\textbf y\n",
    "$$"
   ]
  },
  {
   "cell_type": "code",
   "execution_count": 70,
   "metadata": {},
   "outputs": [
    {
     "name": "stdout",
     "output_type": "stream",
     "text": [
      "(11,)\n"
     ]
    }
   ],
   "source": [
    "# The weight matrix (shape of [11, 1])\n",
    "w = np.matmul(np.matmul(np.linalg.inv(np.matmul(X_train_standard.transpose(), X_train_standard)), X_train_standard.transpose()), y_train_standard)\n",
    "print(w.shape)"
   ]
  },
  {
   "cell_type": "markdown",
   "metadata": {},
   "source": [
    "### **Handin 3**: Report the mean squared error using the linear model on the training and test data."
   ]
  },
  {
   "cell_type": "code",
   "execution_count": 71,
   "metadata": {},
   "outputs": [
    {
     "name": "stdout",
     "output_type": "stream",
     "text": [
      "Mean squared error on training set is 0.578697621214545\n",
      "Mean squared error on test set is 0.5784207178333369\n"
     ]
    }
   ],
   "source": [
    "# Evaluate on training set\n",
    "y_eval = np.matmul(X_train_standard, w)\n",
    "y_eval = y_eval * 3 + 6\n",
    "print(\"Mean squared error on training set is\", ((y_train - y_eval) ** 2).sum() / y_train.shape[0])\n",
    "\n",
    "# Evaluate on testing set\n",
    "y_eval = np.matmul(X_test_standard, w)\n",
    "y_eval = y_eval * 3 + 6\n",
    "print(\"Mean squared error on test set is\", ((y_test - y_eval) ** 2).sum() / y_test.shape[0])"
   ]
  },
  {
   "cell_type": "markdown",
   "metadata": {},
   "source": [
    "## Learning Curves"
   ]
  },
  {
   "cell_type": "markdown",
   "metadata": {},
   "source": [
    "### **Handin 4**: Report the learning curves plot. Also, explain whether you think the model is underﬁtting or not, and how much data you need before getting the optimal test error.\n",
    "\n",
    "**Answer**:\n",
    "- From the curves below, we can tell that about 80 training samples would approch the optimal test error.\n",
    "- And with about 300 samples the training loss and test loss would be basically the same.\n",
    "- The model is underfitting, since the bias is high (and more data won't help)."
   ]
  },
  {
   "cell_type": "code",
   "execution_count": 89,
   "metadata": {},
   "outputs": [
    {
     "data": {
      "image/png": "[encoded data removed]",
      "text/plain": [
       "<Figure size 432x288 with 1 Axes>"
      ]
     },
     "metadata": {
      "needs_background": "light"
     },
     "output_type": "display_data"
    }
   ],
   "source": [
    "num_samples = 20\n",
    "train_loss = []\n",
    "test_loss = []\n",
    "\n",
    "while num_samples <= 600:\n",
    "    # Only use the first `num_samples` data points\n",
    "    x_standard = X_train_standard[:num_samples]\n",
    "    y_standard = y_train_standard[:num_samples]\n",
    "    y = y_train[:num_samples]\n",
    "    \n",
    "    # Closed form solution to the linear model\n",
    "    w = np.matmul(np.matmul(np.linalg.inv(np.matmul(x_standard.transpose(), x_standard)), x_standard.transpose()), y_standard)\n",
    "\n",
    "    # Predict and get train loss\n",
    "    y_eval = np.matmul(x_standard, w)\n",
    "    y_eval = y_eval * 3 + 6\n",
    "    train_loss.append(((y - y_eval) ** 2).sum() / num_samples)\n",
    "    \n",
    "    # Predict and get test loss\n",
    "    y_eval = np.matmul(X_test_standard, w)\n",
    "    y_eval = y_eval * 3 + 6\n",
    "    test_loss.append(((y_test - y_eval) ** 2).sum() / y_test.shape[0])\n",
    "\n",
    "    num_samples += 20\n",
    "\n",
    "# Plot the learning curve\n",
    "x_range = [i for i in range(601)][20::20]\n",
    "plt.plot(x_range, train_loss, '-', label='Train Loss')\n",
    "plt.plot(x_range, test_loss, '-', label='Test Loss')\n",
    "plt.legend()\n",
    "plt.title('Learning Curve')\n",
    "plt.xlabel('#Samples')\n",
    "plt.ylabel('Mean Squared Error')\n",
    "plt.show()"
   ]
  },
  {
   "cell_type": "markdown",
   "metadata": {},
   "source": [
    "## Polynomial Basis Expansion with Ridge and Lasso"
   ]
  },
  {
   "cell_type": "code",
   "execution_count": 140,
   "metadata": {},
   "outputs": [],
   "source": [
    "from sklearn.linear_model import Ridge\n",
    "from sklearn.linear_model import Lasso\n",
    "from sklearn.preprocessing import PolynomialFeatures\n",
    "from sklearn.preprocessing import StandardScaler\n",
    "from sklearn.pipeline import make_pipeline"
   ]
  },
  {
   "cell_type": "code",
   "execution_count": 118,
   "metadata": {},
   "outputs": [
    {
     "name": "stdout",
     "output_type": "stream",
     "text": [
      "Train set size: 3135\n",
      "Val set size: 783\n",
      "Test set size: 980\n"
     ]
    }
   ],
   "source": [
    "# Load data from disk\n",
    "X, y = cp.load(open('winequality-white.pickle', 'rb'))\n",
    "\n",
    "# Split data to train & test\n",
    "N, D = X.shape\n",
    "N_train = int(0.8 * N)\n",
    "N_test = N - N_train\n",
    "\n",
    "X_train = X[:N_train]\n",
    "y_train = y[:N_train]\n",
    "X_test = X[N_train:]\n",
    "y_test = y[N_train:]\n",
    "\n",
    "# Further split train set to train & val, for selecting hyper-parameters\n",
    "N_train = X_train.shape[0]\n",
    "N_val = int(N_train * .2)\n",
    "N_train = N_train - N_val\n",
    "\n",
    "X_val = X_train[N_train:]\n",
    "y_val = y_train[N_train:]\n",
    "X_train = X_train[:N_train]\n",
    "y_train = y_train[:N_train]\n",
    "\n",
    "print(\"Train set size: {}\\nVal set size: {}\\nTest set size: {}\".format(X_train.shape[0], X_val.shape[0], X_test.shape[0]))"
   ]
  },
  {
   "cell_type": "code",
   "execution_count": 123,
   "metadata": {},
   "outputs": [
    {
     "name": "stdout",
     "output_type": "stream",
     "text": [
      "[Ridge] alpha = 10.0\n",
      "[Ridge] Mean squared error on train set is 0.4954631041385635\n",
      "[Ridge] Mean squared error on test set is 0.51166774565843\n",
      "[Lasso] alpha = 0.01\n",
      "[Lasso] Mean squared error on train set is 0.5138328252782884\n",
      "[Lasso] Mean squared error on test set is 0.5185523039167391\n"
     ]
    }
   ],
   "source": [
    "preprocess = make_pipeline(StandardScaler(), PolynomialFeatures(2))\n",
    "\n",
    "# Ridge\n",
    "alpha = 1e-2 # i.e. lambda\n",
    "val_loss = []\n",
    "for i in range(5):\n",
    "    clf = Ridge(alpha=alpha)\n",
    "    clf.fit(preprocess.fit_transform(X_train), y_train)\n",
    "    alpha *= 10\n",
    "    y_eval = clf.predict(preprocess.transform(X_val))\n",
    "    val_loss.append(((y_val - y_eval) ** 2).sum() / y_val.shape[0])\n",
    "# Choose the best alpha\n",
    "alpha = 1e-2 * (10 ** np.argmin(val_loss))\n",
    "print(\"[Ridge] alpha =\", alpha)\n",
    "# Train with full training set\n",
    "X_full_train = np.concatenate((X_train, X_val))\n",
    "y_full_train = np.concatenate((y_train, y_val))\n",
    "clf = Ridge(alpha=alpha)\n",
    "clf.fit(preprocess.fit_transform(X_full_train), y_full_train)\n",
    "# Evaluate\n",
    "y_eval = clf.predict(preprocess.transform(X_full_train))\n",
    "print(\"[Ridge] Mean squared error on train set is\", ((y_full_train - y_eval) ** 2).sum() / y_full_train.shape[0])\n",
    "y_eval = clf.predict(preprocess.transform(X_test))\n",
    "print(\"[Ridge] Mean squared error on test set is\", ((y_test - y_eval) ** 2).sum() / y_test.shape[0])\n",
    "\n",
    "# Lasso\n",
    "alpha = 1e-2 # i.e. lambda\n",
    "val_loss = []\n",
    "for i in range(5):\n",
    "    clf = Lasso(alpha=alpha)\n",
    "    clf.fit(preprocess.fit_transform(X_train), y_train)\n",
    "    alpha *= 10\n",
    "    y_eval = clf.predict(preprocess.transform(X_val))\n",
    "    val_loss.append(((y_val - y_eval) ** 2).sum() / y_val.shape[0])\n",
    "# Choose the best alpha\n",
    "alpha = 1e-2 * (10 ** np.argmin(val_loss))\n",
    "print(\"[Lasso] alpha =\", alpha)\n",
    "# Train with full training set\n",
    "X_full_train = np.concatenate((X_train, X_val))\n",
    "y_full_train = np.concatenate((y_train, y_val))\n",
    "clf = Lasso(alpha=alpha)\n",
    "clf.fit(preprocess.fit_transform(X_full_train), y_full_train)\n",
    "# Evaluate\n",
    "y_eval = clf.predict(preprocess.transform(X_full_train))\n",
    "print(\"[Lasso] Mean squared error on train set is\", ((y_full_train - y_eval) ** 2).sum() / y_full_train.shape[0])\n",
    "y_eval = clf.predict(preprocess.transform(X_test))\n",
    "print(\"[Lasso] Mean squared error on test set is\", ((y_test - y_eval) ** 2).sum() / y_test.shape[0])"
   ]
  },
  {
   "cell_type": "markdown",
   "metadata": {},
   "source": [
    "# Larger Degrees\n",
    "\n",
    "Use $k$-fold to determine hyperparameters using a higher degree basis expansion."
   ]
  },
  {
   "cell_type": "code",
   "execution_count": 141,
   "metadata": {},
   "outputs": [],
   "source": [
    "from sklearn.model_selection import KFold\n",
    "from sklearn.linear_model import Ridge\n",
    "from sklearn.linear_model import Lasso\n",
    "from sklearn.preprocessing import PolynomialFeatures\n",
    "from sklearn.preprocessing import StandardScaler\n",
    "from sklearn.pipeline import make_pipeline\n",
    "from tqdm import tqdm"
   ]
  },
  {
   "cell_type": "code",
   "execution_count": 138,
   "metadata": {},
   "outputs": [
    {
     "name": "stdout",
     "output_type": "stream",
     "text": [
      "Train set size: 3918\n",
      "Test set size: 980\n"
     ]
    }
   ],
   "source": [
    "# Load data from disk\n",
    "X, y = cp.load(open('winequality-white.pickle', 'rb'))\n",
    "\n",
    "# Split data to train & test\n",
    "N, D = X.shape\n",
    "N_train = int(0.8 * N)\n",
    "N_test = N - N_train\n",
    "\n",
    "X_full_train = X[:N_train]\n",
    "y_full_train = y[:N_train]\n",
    "X_test = X[N_train:]\n",
    "y_test = y[N_train:]\n",
    "\n",
    "print(\"Train set size: {}\\nTest set size: {}\".format(X_full_train.shape[0], X_test.shape[0]))"
   ]
  },
  {
   "cell_type": "markdown",
   "metadata": {},
   "source": [
    "### Ridge Regression with 5-fold\n",
    "\n",
    "The result seems somehow worse than 2-degree basis expansion (and without $k$-fold)."
   ]
  },
  {
   "cell_type": "code",
   "execution_count": 197,
   "metadata": {},
   "outputs": [
    {
     "name": "stderr",
     "output_type": "stream",
     "text": [
      "100%|██████████| 10/10 [00:00<00:00, 39.23it/s]\n",
      "100%|██████████| 10/10 [00:00<00:00, 48.01it/s]\n",
      "100%|██████████| 10/10 [00:00<00:00, 44.19it/s]\n",
      "100%|██████████| 10/10 [00:00<00:00, 32.91it/s]\n",
      "100%|██████████| 10/10 [00:00<00:00, 45.28it/s]"
     ]
    },
    {
     "name": "stdout",
     "output_type": "stream",
     "text": [
      "[Ridge] Best alpha = 1000.0000000000001\n",
      "[Ridge] Previously, best mean squared error on val set is 0.5262248469891102\n",
      "[Ridge] Mean squared error on train set is 0.45629981715481616\n",
      "[Ridge] Mean squared error on test set is 0.5421485096673404\n"
     ]
    },
    {
     "name": "stderr",
     "output_type": "stream",
     "text": [
      "\n"
     ]
    }
   ],
   "source": [
    "poly_degree = 3\n",
    "n_splits = 5\n",
    "alpha_init = 1e-5\n",
    "iter_alpha = 10\n",
    "factor = 10\n",
    "\n",
    "preprocess = make_pipeline(StandardScaler(), PolynomialFeatures(poly_degree))\n",
    "kf = KFold(n_splits=n_splits)\n",
    "\n",
    "# Ridge\n",
    "best_loss = np.Infinity\n",
    "best_alpha = alpha_init\n",
    "for train_index, test_index in kf.split(X_full_train):\n",
    "    X_train = X_full_train[train_index]\n",
    "    y_train = y_full_train[train_index]\n",
    "    X_val = X_full_train[test_index]\n",
    "    y_val = y_full_train[test_index]\n",
    "    \n",
    "    alpha = alpha_init # i.e. lambda\n",
    "    val_loss = []\n",
    "    for i in tqdm(range(iter_alpha)):\n",
    "        clf = Ridge(alpha=alpha)\n",
    "        clf.fit(preprocess.fit_transform(X_train), y_train)\n",
    "        alpha *= factor\n",
    "        y_eval = clf.predict(preprocess.transform(X_val))\n",
    "        val_loss.append(((y_val - y_eval) ** 2).sum() / y_val.shape[0])\n",
    "    # Update globally best loss & alpha\n",
    "    if best_loss > np.min(val_loss):\n",
    "        best_loss = np.min(val_loss)\n",
    "        best_alpha = alpha_init * (factor ** np.argmin(val_loss))\n",
    "print(\"[Ridge] Best alpha =\", best_alpha)\n",
    "# Train with full training set\n",
    "clf = Ridge(alpha=best_alpha)\n",
    "clf.fit(preprocess.fit_transform(X_full_train), y_full_train)\n",
    "# Evaluate\n",
    "print(\"[Ridge] Previously, best mean squared error on val set is\", best_loss)\n",
    "y_eval = clf.predict(preprocess.transform(X_full_train))\n",
    "print(\"[Ridge] Mean squared error on train set is\", ((y_full_train - y_eval) ** 2).sum() / y_full_train.shape[0])\n",
    "y_eval = clf.predict(preprocess.transform(X_test))\n",
    "print(\"[Ridge] Mean squared error on test set is\", ((y_test - y_eval) ** 2).sum() / y_test.shape[0])"
   ]
  },
  {
   "cell_type": "markdown",
   "metadata": {},
   "source": [
    "### Lasso Regression with 5-fold\n",
    "\n",
    "The optimization seems difficult to converge for small $\\lambda$. But the best error (0.5072) seems a little better than 2-degree basis expansion."
   ]
  },
  {
   "cell_type": "code",
   "execution_count": 191,
   "metadata": {},
   "outputs": [
    {
     "name": "stderr",
     "output_type": "stream",
     "text": [
      "  0%|          | 0/5 [00:00<?, ?it/s]/Users/vtu/opt/anaconda3/lib/python3.8/site-packages/sklearn/linear_model/_coordinate_descent.py:529: ConvergenceWarning: Objective did not converge. You might want to increase the number of iterations. Duality gap: 583.1760394764294, tolerance: 0.24286818761965562\n",
      "  model = cd_fast.enet_coordinate_descent(\n",
      " 60%|██████    | 3/5 [00:04<00:02,  1.49s/it]/Users/vtu/opt/anaconda3/lib/python3.8/site-packages/sklearn/linear_model/_coordinate_descent.py:529: ConvergenceWarning: Objective did not converge. You might want to increase the number of iterations. Duality gap: 306.33159506265724, tolerance: 0.24286818761965562\n",
      "  model = cd_fast.enet_coordinate_descent(\n",
      "100%|██████████| 5/5 [00:11<00:00,  2.25s/it]\n",
      "  0%|          | 0/5 [00:00<?, ?it/s]/Users/vtu/opt/anaconda3/lib/python3.8/site-packages/sklearn/linear_model/_coordinate_descent.py:529: ConvergenceWarning: Objective did not converge. You might want to increase the number of iterations. Duality gap: 315.9951266439087, tolerance: 0.2481417038927884\n",
      "  model = cd_fast.enet_coordinate_descent(\n",
      "100%|██████████| 5/5 [00:09<00:00,  1.81s/it]\n",
      "  0%|          | 0/5 [00:00<?, ?it/s]/Users/vtu/opt/anaconda3/lib/python3.8/site-packages/sklearn/linear_model/_coordinate_descent.py:529: ConvergenceWarning: Objective did not converge. You might want to increase the number of iterations. Duality gap: 605.1074466787804, tolerance: 0.24224904275686068\n",
      "  model = cd_fast.enet_coordinate_descent(\n",
      " 60%|██████    | 3/5 [00:04<00:02,  1.46s/it]/Users/vtu/opt/anaconda3/lib/python3.8/site-packages/sklearn/linear_model/_coordinate_descent.py:529: ConvergenceWarning: Objective did not converge. You might want to increase the number of iterations. Duality gap: 235.84935635760053, tolerance: 0.24224904275686068\n",
      "  model = cd_fast.enet_coordinate_descent(\n",
      "100%|██████████| 5/5 [00:10<00:00,  2.16s/it]\n",
      "  0%|          | 0/5 [00:00<?, ?it/s]/Users/vtu/opt/anaconda3/lib/python3.8/site-packages/sklearn/linear_model/_coordinate_descent.py:529: ConvergenceWarning: Objective did not converge. You might want to increase the number of iterations. Duality gap: 601.0264647763745, tolerance: 0.24151814992025525\n",
      "  model = cd_fast.enet_coordinate_descent(\n",
      " 60%|██████    | 3/5 [00:05<00:03,  1.85s/it]/Users/vtu/opt/anaconda3/lib/python3.8/site-packages/sklearn/linear_model/_coordinate_descent.py:529: ConvergenceWarning: Objective did not converge. You might want to increase the number of iterations. Duality gap: 69.90388712193283, tolerance: 0.24151814992025525\n",
      "  model = cd_fast.enet_coordinate_descent(\n",
      " 80%|████████  | 4/5 [00:10<00:02,  2.91s/it]/Users/vtu/opt/anaconda3/lib/python3.8/site-packages/sklearn/linear_model/_coordinate_descent.py:529: ConvergenceWarning: Objective did not converge. You might want to increase the number of iterations. Duality gap: 2.128369156126155, tolerance: 0.24151814992025525\n",
      "  model = cd_fast.enet_coordinate_descent(\n",
      "100%|██████████| 5/5 [00:15<00:00,  3.15s/it]\n",
      "  0%|          | 0/5 [00:00<?, ?it/s]/Users/vtu/opt/anaconda3/lib/python3.8/site-packages/sklearn/linear_model/_coordinate_descent.py:529: ConvergenceWarning: Objective did not converge. You might want to increase the number of iterations. Duality gap: 614.9457729117424, tolerance: 0.24253282296650705\n",
      "  model = cd_fast.enet_coordinate_descent(\n",
      " 60%|██████    | 3/5 [00:05<00:03,  1.77s/it]/Users/vtu/opt/anaconda3/lib/python3.8/site-packages/sklearn/linear_model/_coordinate_descent.py:529: ConvergenceWarning: Objective did not converge. You might want to increase the number of iterations. Duality gap: 263.9296020740014, tolerance: 0.24253282296650705\n",
      "  model = cd_fast.enet_coordinate_descent(\n",
      "100%|██████████| 5/5 [00:13<00:00,  2.70s/it]\n"
     ]
    },
    {
     "name": "stdout",
     "output_type": "stream",
     "text": [
      "[Lasso] Best alpha = 0.01\n",
      "[Lasso] Previously, best mean squared error on val set is 0.5095863010894448\n",
      "[Lasso] Mean squared error on train set is 0.46857682318417443\n",
      "[Lasso] Mean squared error on test set is 0.5071786105362784\n"
     ]
    }
   ],
   "source": [
    "poly_degree = 3\n",
    "n_splits = 5\n",
    "alpha_init = 1e-4\n",
    "iter_alpha = 5\n",
    "factor = 10\n",
    "\n",
    "preprocess = make_pipeline(StandardScaler(), PolynomialFeatures(poly_degree))\n",
    "kf = KFold(n_splits=n_splits)\n",
    "\n",
    "# Lasso\n",
    "best_loss = np.Infinity\n",
    "best_alpha = alpha_init\n",
    "for train_index, test_index in kf.split(X_full_train):\n",
    "    X_train = X_full_train[train_index]\n",
    "    y_train = y_full_train[train_index]\n",
    "    X_val = X_full_train[test_index]\n",
    "    y_val = y_full_train[test_index]\n",
    "\n",
    "    alpha = alpha_init # i.e. lambda\n",
    "    val_loss = []\n",
    "    for i in tqdm(range(iter_alpha)):\n",
    "        if i < 2: continue\n",
    "        clf = Lasso(alpha=alpha, max_iter=5000)\n",
    "        clf.fit(preprocess.fit_transform(X_train), y_train)\n",
    "        alpha *= 10\n",
    "        y_eval = clf.predict(preprocess.transform(X_val))\n",
    "        val_loss.append(((y_val - y_eval) ** 2).sum() / y_val.shape[0])\n",
    "    # Update globally best loss & alpha\n",
    "    if best_loss > np.min(val_loss):\n",
    "        best_loss = np.min(val_loss)\n",
    "        best_alpha = alpha_init * (10 ** np.argmin(val_loss))\n",
    "print(\"[Lasso] Best alpha =\", best_alpha)\n",
    "# Train with full training set\n",
    "clf = Lasso(alpha=best_alpha, max_iter=5000)\n",
    "clf.fit(preprocess.fit_transform(X_full_train), y_full_train)\n",
    "# Evaluate\n",
    "print(\"[Lasso] Previously, best mean squared error on val set is\", best_loss)\n",
    "y_eval = clf.predict(preprocess.transform(X_full_train))\n",
    "print(\"[Lasso] Mean squared error on train set is\", ((y_full_train - y_eval) ** 2).sum() / y_full_train.shape[0])\n",
    "y_eval = clf.predict(preprocess.transform(X_test))\n",
    "print(\"[Lasso] Mean squared error on test set is\", ((y_test - y_eval) ** 2).sum() / y_test.shape[0])\n"
   ]
  }
 ],
 "metadata": {
  "interpreter": {
   "hash": "e53f07ebee17cdf3cdbf07b6e0bdd4ac384cbe92f6ed1708e1e90aab48f38486"
  },
  "kernelspec": {
   "display_name": "Python 3.8.5 64-bit ('base': conda)",
   "name": "python3"
  },
  "language_info": {
   "codemirror_mode": {
    "name": "ipython",
    "version": 3
   },
   "file_extension": ".py",
   "mimetype": "text/x-python",
   "name": "python",
   "nbconvert_exporter": "python",
   "pygments_lexer": "ipython3",
   "version": "3.8.5"
  },
  "orig_nbformat": 4
 },
 "nbformat": 4,
 "nbformat_minor": 2
}
