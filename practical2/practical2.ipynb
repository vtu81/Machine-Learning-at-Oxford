{
 "cells": [
  {
   "cell_type": "markdown",
   "metadata": {},
   "source": [
    "# Practical 2: Generative and Discriminative Models\n",
    "\n",
    "In this practical, we'll compare:\n",
    "- Naive Bayes Classifier (NBC)\n",
    "- Logistic Regression Classifier (LR)"
   ]
  },
  {
   "cell_type": "code",
   "execution_count": 42,
   "metadata": {},
   "outputs": [],
   "source": [
    "import numpy as np\n",
    "import math, random\n",
    "import sklearn\n",
    "from scipy.stats import norm as gaussian\n",
    "from matplotlib import pyplot as plt\n",
    "from tqdm import tqdm\n",
    "import warnings\n",
    "warnings.filterwarnings('ignore', category=UserWarning, append=True)"
   ]
  },
  {
   "cell_type": "markdown",
   "metadata": {},
   "source": [
    "## Naive Bayes Classifier\n",
    "\n",
    "For real-value inputs, we use univariant Gaussian to model $p(x_i | y=c)=\\mathcal N(\\mu_{ic}, \\sigma^2_{ic})$.\n",
    "It's known that the MLE for this model is exactly the empirical mean and varince, i.e.:\n",
    "$$\n",
    "\\mu_{ic} = \\text{Mean}(x_i^{(j)}), \\forall y^{(j)} = c\\\\\n",
    "\\sigma^2_{ic} = \\text{Variance}(x_i^{(j)}), \\forall y^{(j)} = c\n",
    "$$\n",
    "\n",
    "For binary features, $p(x_i=1 | y=c)=\\theta_{ic}, p(x_i=0 | y=c)=1-\\theta_{ic} \\Leftrightarrow p(x_i | y=c) = \\theta_{ic}^{x_i}(1-\\theta_{ic})^{1-x_i}$, where:\n",
    "$$\n",
    "\\theta_{ic} = \\cfrac{N_{x_i=1,y=c}}{N_{y=c}}\n",
    "$$\n",
    "\n",
    "And modelling $p(y=c)$ is similar:\n",
    "$$\n",
    "\\pi_c = \\cfrac{N_{y=c}}{N}\n",
    "$$\n",
    "\n",
    "During prediction, NBC predicts by $\\hat y = \\argmax_{y\\in\\mathcal C} p(\\mathbf x, y=c | \\mathbf\\mu_{\\cdot c},\\mathbf{\\sigma_{\\cdot c}}^2)$, where:\n",
    "$$\n",
    "p(\\mathbf x, y=c | \\mathbf\\mu,\\mathbf{\\sigma}^2) = \\pi_c\\cdot\\prod_{j=1}^D p(x_{j} | \\mu_{jc},\\sigma_{jc}^2)\n",
    "$$\n",
    "\n",
    "And logarithmically:\n",
    "$$\n",
    "\n",
    "\\log p(\\mathbf x, y=c | \\mathbf\\mu,\\mathbf{\\sigma}^2) = \\log\\pi_c + \\sum_{j} \\log p(x_{j} | y = c)\\\\\n",
    "=\\log\\pi_c - \\sum_{j, x_{j}\\text{ is real}} \\log \\sqrt{2\\pi}\\sigma_{jc} - \\sum_{j, x_{j}\\text{ is real}} \\cfrac{(x_j-\\mu_{jc})^2}{2\\sigma_{jc}^2} + \\sum_{j, x_{j}\\text{ is binary}}({x_j}\\log\\theta_{ic} + (1-x_j)\\log(1-\\theta_{ic}))\n",
    "$$\n"
   ]
  },
  {
   "cell_type": "code",
   "execution_count": 87,
   "metadata": {},
   "outputs": [],
   "source": [
    "class NBC:\n",
    "    def __init__(self, feature_types=None, num_classes=None):\n",
    "        self.real_idx = []\n",
    "        self.binary_idx = []\n",
    "        for i, t in enumerate(feature_types):\n",
    "            assert t == 'r' or t == 'b', \"Feature type must be either 'r' for real, or 'b' for binary!\"\n",
    "            if t == 'b': #raise NotImplementedError(\"Binary features are not supported yet! (don't feel like to implement it actually)\")\n",
    "                self.binary_idx.append(i)\n",
    "            else:\n",
    "                self.real_idx.append(i)\n",
    "        assert num_classes > 1, \"Number of classes should be at least 2!\"\n",
    "        self.feature_types = feature_types\n",
    "        self.num_classes = num_classes\n",
    "\n",
    "        # Model of p(y = c)\n",
    "        self.pis = np.ndarray(self.num_classes, np.float) # \\pi_c; shape of (num_classes)\n",
    "        \n",
    "        # Model of p(x_i | y = c)\n",
    "        self.mus = np.ndarray((self.num_classes, len(feature_types)), np.float) # Gaussian means; shape of (num_classes, num_dimensions)\n",
    "        self.sigma2s = np.ndarray((self.num_classes, len(feature_types)), np.float) # Gaussian variance; shape of (num_classes, num_dimensions)\n",
    "        self.thetas = np.ndarray((self.num_classes, len(feature_types)), np.float) # Bernolli; shape of (num_classes, num_dimensions)\n",
    "    \n",
    "    def gaussian_p_x_given_y(self, x, y): # Gaussian\n",
    "        return gaussian.pdf(x, loc=self.mus[y], scale=self.sigma2s[y])\n",
    "    \n",
    "    def fit(self, X, y):\n",
    "        assert len(X.shape) == 2\n",
    "\n",
    "        for c in range(self.num_classes):\n",
    "            # Estimate p(y = c)\n",
    "            self.pis[c] = y[y == c].shape[0] / y.shape[0]\n",
    "\n",
    "            # Estimate p(x | y = c)\n",
    "            X_c = X[y == c]\n",
    "            ## Real entries\n",
    "            self.mus[c, self.real_idx] = X_c[:, self.real_idx].mean(axis=0)\n",
    "            self.sigma2s[c, self.real_idx] = np.maximum(X_c[:, self.real_idx].var(axis=0), 1e-6)\n",
    "            ## Binary entries\n",
    "            self.thetas[c, self.binary_idx] = (np.sum(np.equal(X_c[:, self.binary_idx], 1.0), axis=0) + 1) / (X_c.shape[0] + 2)\n",
    "    \n",
    "    def predict(self, X):\n",
    "        logits = None # eventually be of shape (num_classes, num_inputs)\n",
    "        inits = np.log(self.pis) - np.sum(np.log(np.sqrt(np.pi) * np.sqrt(self.sigma2s[:, self.real_idx])), axis=1)\n",
    "        # print(inits.shape)\n",
    "        for c in range(self.num_classes):\n",
    "            term = inits[c]\n",
    "            if len(self.real_idx) > 0: term -= np.sum((X - self.mus[c, self.real_idx]) ** 2 / (2 * self.sigma2s[c, self.real_idx]), axis=1) # real entries\n",
    "            if len(self.binary_idx) > 0: term += np.sum(X * np.log(self.thetas[c, self.binary_idx]) + (1 - X) * np.log(1 - self.thetas[c, self.binary_idx]), axis=1) # binary entries\n",
    "            term = np.expand_dims(term, axis=1)\n",
    "            if logits is None:\n",
    "                logits = term\n",
    "                # print(logits.shape)\n",
    "            else: logits = np.concatenate((logits, term), axis=1)\n",
    "        # print(logits.shape)\n",
    "        pred = np.argmax(logits, axis=1)\n",
    "        return pred"
   ]
  },
  {
   "cell_type": "markdown",
   "metadata": {},
   "source": [
    "### Iris"
   ]
  },
  {
   "cell_type": "code",
   "execution_count": 114,
   "metadata": {},
   "outputs": [
    {
     "name": "stdout",
     "output_type": "stream",
     "text": [
      "Train set: 100\n",
      "Test set: 50\n",
      "Test Prec: 0.96\n",
      "Train Prec: 0.96\n"
     ]
    }
   ],
   "source": [
    "from sklearn.datasets import load_iris\n",
    "\n",
    "iris = load_iris()\n",
    "X, y = iris['data'], iris['target']\n",
    "\n",
    "num_inputs = X.shape[0]\n",
    "train_num = int(num_inputs * 2 / 3)\n",
    "test_num = num_inputs - train_num\n",
    "\n",
    "y_train = y_test = []\n",
    "while(len(set(y_train)) < len(set(y)) or len(set(y_test)) < len(set(y))):\n",
    "    train_idx = random.sample(range(num_inputs), k=train_num)\n",
    "    test_idx = list(set(range(num_inputs)) - set(train_idx))\n",
    "\n",
    "    X_train = X[train_idx]\n",
    "    y_train = y[train_idx]\n",
    "    X_test = X[test_idx]\n",
    "    y_test = y[test_idx]\n",
    "\n",
    "print(\"Train set:\", X_train.shape[0])\n",
    "print(\"Test set:\", X_test.shape[0])\n",
    "\n",
    "nbc = NBC(feature_types=['r', 'r', 'r', 'r'], num_classes=3)\n",
    "nbc.fit(X_train, y_train)\n",
    "\n",
    "pred = nbc.predict(X_test)\n",
    "print(\"Test Prec: {:.2f}\".format(np.sum(pred == y_test) / y_test.shape[0]))\n",
    "\n",
    "pred = nbc.predict(X_train)\n",
    "print(\"Train Prec: {:.2f}\".format(np.sum(pred == y_train) / y_train.shape[0]))"
   ]
  },
  {
   "cell_type": "markdown",
   "metadata": {},
   "source": [
    "### Voting"
   ]
  },
  {
   "cell_type": "code",
   "execution_count": 115,
   "metadata": {},
   "outputs": [
    {
     "name": "stdout",
     "output_type": "stream",
     "text": [
      "Train set: 154\n",
      "Test set: 78\n",
      "Test Prec: 0.94\n",
      "Train Prec: 0.90\n"
     ]
    }
   ],
   "source": [
    "import pickle as cp\n",
    "\n",
    "X, y = cp.load(open('voting.pickle', 'rb'))\n",
    "\n",
    "num_inputs = X.shape[0]\n",
    "train_num = int(num_inputs * 2 / 3)\n",
    "test_num = num_inputs - train_num\n",
    "\n",
    "y_train = y_test = []\n",
    "while(len(set(y_train)) < len(set(y)) or len(set(y_test)) < len(set(y))):\n",
    "    train_idx = random.sample(range(num_inputs), k=train_num)\n",
    "    test_idx = list(set(range(num_inputs)) - set(train_idx))\n",
    "\n",
    "    X_train = X[train_idx]\n",
    "    y_train = y[train_idx]\n",
    "    X_test = X[test_idx]\n",
    "    y_test = y[test_idx]\n",
    "\n",
    "print(\"Train set:\", X_train.shape[0])\n",
    "print(\"Test set:\", X_test.shape[0])\n",
    "\n",
    "# nbc = NBC(feature_types=['r' for i in range(16)], num_classes=2) # Assuming features being real-value does better?\n",
    "nbc = NBC(feature_types=['b' for i in range(16)], num_classes=2)\n",
    "nbc.fit(X_train, y_train)\n",
    "\n",
    "pred = nbc.predict(X_test)\n",
    "print(\"Test Prec: {:.2f}\".format(np.sum(pred == y_test) / y_test.shape[0]))\n",
    "\n",
    "pred = nbc.predict(X_train)\n",
    "print(\"Train Prec: {:.2f}\".format(np.sum(pred == y_train) / y_train.shape[0]))"
   ]
  },
  {
   "cell_type": "markdown",
   "metadata": {},
   "source": [
    "## Logistic Regression\n",
    "\n",
    "**Handin1**: Set $C=5$ in $\\min_{w, c} \\frac{1}{2}w^T w + C \\sum_{i=1}^n \\log(\\exp(- y_i (X_i^T w + c)) + 1)$ would be equivalent to $\\lambda = 0.1$ in the lectures' optimization form."
   ]
  },
  {
   "cell_type": "markdown",
   "metadata": {},
   "source": [
    "### Iris"
   ]
  },
  {
   "cell_type": "code",
   "execution_count": 116,
   "metadata": {},
   "outputs": [
    {
     "name": "stdout",
     "output_type": "stream",
     "text": [
      "Train set: 100\n",
      "Test set: 50\n",
      "Test Prec: 0.94\n",
      "Train Prec: 0.97\n"
     ]
    }
   ],
   "source": [
    "from sklearn.linear_model import LogisticRegression\n",
    "\n",
    "iris = load_iris()\n",
    "X, y = iris['data'], iris['target']\n",
    "\n",
    "num_inputs = X.shape[0]\n",
    "train_num = int(num_inputs * 2 / 3)\n",
    "test_num = num_inputs - train_num\n",
    "\n",
    "y_train = y_test = []\n",
    "while(len(set(y_train)) < len(set(y)) or len(set(y_test)) < len(set(y))):\n",
    "    train_idx = random.sample(range(num_inputs), k=train_num)\n",
    "    test_idx = list(set(range(num_inputs)) - set(train_idx))\n",
    "\n",
    "    X_train = X[train_idx]\n",
    "    y_train = y[train_idx]\n",
    "    X_test = X[test_idx]\n",
    "    y_test = y[test_idx]\n",
    "\n",
    "print(\"Train set:\", X_train.shape[0])\n",
    "print(\"Test set:\", X_test.shape[0])\n",
    "\n",
    "nbc = NBC(feature_types=['r', 'r', 'r', 'r'], num_classes=3)\n",
    "nbc.fit(X_train, y_train)\n",
    "\n",
    "pred = nbc.predict(X_test)\n",
    "print(\"Test Prec: {:.2f}\".format(np.sum(pred == y_test) / y_test.shape[0]))\n",
    "\n",
    "pred = nbc.predict(X_train)\n",
    "print(\"Train Prec: {:.2f}\".format(np.sum(pred == y_train) / y_train.shape[0]))\n"
   ]
  },
  {
   "cell_type": "markdown",
   "metadata": {},
   "source": [
    "### Voting"
   ]
  },
  {
   "cell_type": "code",
   "execution_count": 117,
   "metadata": {},
   "outputs": [
    {
     "name": "stdout",
     "output_type": "stream",
     "text": [
      "Train set: 154\n",
      "Test set: 78\n",
      "Test Prec: 0.95\n",
      "Train Prec: 0.97\n"
     ]
    }
   ],
   "source": [
    "X, y = cp.load(open('voting.pickle', 'rb'))\n",
    "\n",
    "num_inputs = X.shape[0]\n",
    "train_num = int(num_inputs * 2 / 3)\n",
    "test_num = num_inputs - train_num\n",
    "\n",
    "y_train = y_test = []\n",
    "while(len(set(y_train)) < len(set(y)) or len(set(y_test)) < len(set(y))):\n",
    "    train_idx = random.sample(range(num_inputs), k=train_num)\n",
    "    test_idx = list(set(range(num_inputs)) - set(train_idx))\n",
    "\n",
    "    X_train = X[train_idx]\n",
    "    y_train = y[train_idx]\n",
    "    X_test = X[test_idx]\n",
    "    y_test = y[test_idx]\n",
    "\n",
    "print(\"Train set:\", X_train.shape[0])\n",
    "print(\"Test set:\", X_test.shape[0])\n",
    "\n",
    "\n",
    "lr = LogisticRegression(random_state=0, penalty='l2', solver='liblinear').fit(X_train, y_train)\n",
    "\n",
    "pred = lr.predict(X_test)\n",
    "print(\"Test Prec: {:.2f}\".format(np.sum(pred == y_test) / y_test.shape[0]))\n",
    "\n",
    "pred = lr.predict(X_train)\n",
    "print(\"Train Prec: {:.2f}\".format(np.sum(pred == y_train) / y_train.shape[0]))\n"
   ]
  },
  {
   "cell_type": "markdown",
   "metadata": {},
   "source": [
    "## Comparison"
   ]
  },
  {
   "cell_type": "markdown",
   "metadata": {},
   "source": [
    "### Iris"
   ]
  },
  {
   "cell_type": "code",
   "execution_count": 118,
   "metadata": {},
   "outputs": [
    {
     "name": "stderr",
     "output_type": "stream",
     "text": [
      "100%|██████████| 10/10 [00:40<00:00,  4.07s/it]\n"
     ]
    }
   ],
   "source": [
    "from sklearn.datasets import load_iris\n",
    "\n",
    "iris = load_iris()\n",
    "X, y = iris['data'], iris['target']\n",
    "\n",
    "N, D = X.shape\n",
    "num_division = 10\n",
    "num_iter = 1000\n",
    "nbc_errors = []\n",
    "lr_errors = []\n",
    "\n",
    "N_train_ori = int(0.8 * N)\n",
    "shuffler = np.random.permutation(N)\n",
    "X_train_ori = X[shuffler[:N_train_ori]]\n",
    "y_train_ori = y[shuffler[:N_train_ori]]\n",
    "X_test = X[shuffler[N_train_ori:]]\n",
    "y_test = y[shuffler[N_train_ori:]]\n",
    "\n",
    "for k in tqdm(range(num_division)):\n",
    "    nbc_error = lr_error = 0.0\n",
    "    for it in range(num_iter):\n",
    "        N_train = int(N_train_ori * (k + 1) * 0.1)\n",
    "        y_train = []\n",
    "        while len(set(y_train)) < len(set(y)): # in case there is a class where no sample is provided\n",
    "            shuffler = np.random.permutation(N_train_ori)\n",
    "            X_train = X_train_ori[shuffler[:N_train]]\n",
    "            y_train = y_train_ori[shuffler[:N_train]]\n",
    "\n",
    "        nbc = NBC(feature_types=['r', 'r', 'r', 'r'], num_classes=3)\n",
    "        nbc.fit(X_train, y_train)\n",
    "        nbc_pred = nbc.predict(X_test)\n",
    "        nbc_error += np.sum(nbc_pred == y_test) / y_test.shape[0]\n",
    "\n",
    "        lr = LogisticRegression(random_state=0, penalty='l1', solver='liblinear').fit(X_train, y_train)\n",
    "        lr_pred = lr.predict(X_test)\n",
    "        lr_error += np.sum(lr_pred == y_test) / y_test.shape[0]\n",
    "    nbc_error /= num_iter\n",
    "    lr_error /= num_iter\n",
    "    nbc_errors.append(1 - nbc_error)\n",
    "    lr_errors.append(1 - lr_error)"
   ]
  },
  {
   "cell_type": "code",
   "execution_count": 122,
   "metadata": {},
   "outputs": [
    {
     "name": "stdout",
     "output_type": "stream",
     "text": [
      "NBC err: 0.0631333333333497\n",
      "LR err: 0.0\n"
     ]
    },
    {
     "data": {
      "image/png": "[encoded data removed]",
      "text/plain": [
       "<Figure size 432x288 with 1 Axes>"
      ]
     },
     "metadata": {
      "needs_background": "light"
     },
     "output_type": "display_data"
    }
   ],
   "source": [
    "print(\"NBC err:\", np.min(nbc_errors))\n",
    "print(\"LR err:\", np.min(lr_errors))\n",
    "plt.plot(range(0, 10 * num_division, 10), nbc_errors, label='Naive Bayes Classifier')\n",
    "plt.plot(range(0, 10 * num_division, 10), lr_errors, label='Logistic Regression Classifier')\n",
    "\n",
    "plt.xlabel(\"% Train Set Used\")\n",
    "plt.ylabel(\"Classfication Error\")\n",
    "\n",
    "plt.legend()\n",
    "plt.show()\n",
    "# plt.savefig('iris_comparison_liblinear_l1.png')"
   ]
  },
  {
   "cell_type": "markdown",
   "metadata": {},
   "source": [
    "### Voting\n",
    "\n",
    "**It seems that assuming features being real-valued could produce better NBC classifiers?**"
   ]
  },
  {
   "cell_type": "code",
   "execution_count": 140,
   "metadata": {},
   "outputs": [
    {
     "name": "stderr",
     "output_type": "stream",
     "text": [
      "100%|██████████| 10/10 [00:14<00:00,  1.49s/it]\n"
     ]
    }
   ],
   "source": [
    "import pickle as cp\n",
    "X, y = cp.load(open('voting.pickle', 'rb'))\n",
    "\n",
    "N, D = X.shape\n",
    "num_division = 10\n",
    "num_iter = 1000\n",
    "nbc_errors = []\n",
    "lr_errors = []\n",
    "\n",
    "N_train_ori = int(0.8 * N)\n",
    "shuffler = np.random.permutation(N)\n",
    "X_train_ori = X[shuffler[:N_train_ori]]\n",
    "y_train_ori = y[shuffler[:N_train_ori]]\n",
    "X_test = X[shuffler[N_train_ori:]]\n",
    "y_test = y[shuffler[N_train_ori:]]\n",
    "\n",
    "for k in tqdm(range(num_division)):\n",
    "    nbc_error = lr_error = 0.0\n",
    "    for it in range(num_iter):\n",
    "        N_train = int(N_train_ori * (k + 1) * 0.1)\n",
    "        y_train = []\n",
    "        while len(set(y_train)) < len(set(y)): # in case there is a class where no sample is provided\n",
    "            shuffler = np.random.permutation(N_train_ori)\n",
    "            X_train = X_train_ori[shuffler[:N_train]]\n",
    "            y_train = y_train_ori[shuffler[:N_train]]\n",
    "\n",
    "        nbc = NBC(feature_types=['b' for i in range(16)], num_classes=2)\n",
    "        nbc.fit(X_train, y_train)\n",
    "        nbc_pred = nbc.predict(X_test)\n",
    "        nbc_error += np.sum(nbc_pred == y_test) / y_test.shape[0]\n",
    "\n",
    "        lr = LogisticRegression(random_state=0, penalty='l1', solver='liblinear').fit(X_train, y_train)\n",
    "        lr_pred = lr.predict(X_test)\n",
    "        lr_error += np.sum(lr_pred == y_test) / y_test.shape[0]\n",
    "    nbc_error /= num_iter\n",
    "    lr_error /= num_iter\n",
    "    nbc_errors.append(1 - nbc_error)\n",
    "    lr_errors.append(1 - lr_error)"
   ]
  },
  {
   "cell_type": "code",
   "execution_count": 143,
   "metadata": {},
   "outputs": [
    {
     "name": "stdout",
     "output_type": "stream",
     "text": [
      "NBC err: 0.04248936170211681\n",
      "LR err: 0.0\n"
     ]
    },
    {
     "data": {
      "image/png": "[encoded data removed]",
      "text/plain": [
       "<Figure size 432x288 with 1 Axes>"
      ]
     },
     "metadata": {
      "needs_background": "light"
     },
     "output_type": "display_data"
    }
   ],
   "source": [
    "print(\"NBC err:\", np.min(nbc_errors))\n",
    "print(\"LR err:\", np.min(lr_errors))\n",
    "plt.plot(range(0, 10 * num_division, 10), nbc_errors, label='Naive Bayes Classifier')\n",
    "plt.plot(range(0, 10 * num_division, 10), lr_errors, label='Logistic Regression Classifier')\n",
    "\n",
    "plt.xlabel(\"% Train Set Used\")\n",
    "plt.ylabel(\"Classfication Error\")\n",
    "\n",
    "plt.legend()\n",
    "plt.show()\n",
    "# plt.savefig('voting_comparison_liblinear_l1.png')"
   ]
  }
 ],
 "metadata": {
  "interpreter": {
   "hash": "e53f07ebee17cdf3cdbf07b6e0bdd4ac384cbe92f6ed1708e1e90aab48f38486"
  },
  "kernelspec": {
   "display_name": "Python 3.8.5 64-bit ('base': conda)",
   "language": "python",
   "name": "python3"
  },
  "language_info": {
   "codemirror_mode": {
    "name": "ipython",
    "version": 3
   },
   "file_extension": ".py",
   "mimetype": "text/x-python",
   "name": "python",
   "nbconvert_exporter": "python",
   "pygments_lexer": "ipython3",
   "version": "3.8.5"
  },
  "orig_nbformat": 4
 },
 "nbformat": 4,
 "nbformat_minor": 2
}
