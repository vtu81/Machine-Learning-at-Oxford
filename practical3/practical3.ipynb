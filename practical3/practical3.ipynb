{
 "cells": [
  {
   "cell_type": "markdown",
   "metadata": {},
   "source": [
    "# Practical 3: Convolutional Neural Networks (CNNs)"
   ]
  },
  {
   "cell_type": "code",
   "execution_count": 1,
   "metadata": {},
   "outputs": [],
   "source": [
    "import torch, os\n",
    "from torch.utils.data import Dataset, DataLoader, random_split\n",
    "from torchvision import datasets, transforms\n",
    "from tqdm import tqdm\n",
    "import numpy as np\n",
    "import matplotlib.pyplot as plt\n",
    "\n",
    "\"\"\"\n",
    "Configurations\n",
    "\"\"\"\n",
    "use_gpu = True # use GPU or CPU\n",
    "dataset_path = '.'\n",
    "batch_size = 64\n",
    "\n",
    "if use_gpu:\n",
    "    os.environ['CUDA_VISIBLE_DEVICES'] = '1' # select GPU if necessary\n",
    "    device = 'cuda'\n",
    "else:\n",
    "    device = 'cpu'\n",
    "\n",
    "\n",
    "mnist_transform=transforms.Compose([\n",
    "    transforms.ToTensor(),\n",
    "    transforms.Normalize((0.1307,), (0.3081,)),\n",
    "])\n",
    "\n",
    "dataset = datasets.MNIST(root=dataset_path, train=True, download=False, transform=mnist_transform)\n",
    "dataset_train, dataset_val = random_split(dataset, [50000, 10000])\n",
    "dataset_test = datasets.MNIST(root=dataset_path, train=False, transform=mnist_transform)\n",
    "\n",
    "train_loader = DataLoader(dataset=dataset_train, batch_size=batch_size, shuffle=True)\n",
    "val_loader = DataLoader(dataset=dataset_val, batch_size=batch_size, shuffle=False)\n",
    "test_loader = DataLoader(dataset=dataset_test, batch_size=batch_size, shuffle=False)"
   ]
  },
  {
   "cell_type": "code",
   "execution_count": 81,
   "metadata": {},
   "outputs": [],
   "source": [
    "class ConvNet(torch.nn.Module):\n",
    "    def __init__(self):\n",
    "        super().__init__()\n",
    "        self.conv1 = torch.nn.Sequential(\n",
    "            # torch.nn.Conv2d(in_channels=1, out_channels=25, kernel_size=12, stride=2),\n",
    "            torch.nn.Conv2d(in_channels=1, out_channels=16, kernel_size=5, stride=1),\n",
    "            torch.nn.ReLU(),\n",
    "            torch.nn.AvgPool2d(kernel_size=2, stride=2),\n",
    "        )\n",
    "        self.conv2 = torch.nn.Sequential(\n",
    "            # torch.nn.Conv2d(in_channels=25, out_channels=64, kernel_size=5, stride=1),\n",
    "            torch.nn.Conv2d(in_channels=16, out_channels=32, kernel_size=5, stride=1),\n",
    "            torch.nn.ReLU(),\n",
    "            torch.nn.AvgPool2d(kernel_size=2, stride=2),\n",
    "            # torch.nn.MaxPool2d(kernel_size=2),\n",
    "        )\n",
    "\n",
    "        self.fc1 = torch.nn.Sequential(\n",
    "            torch.nn.Linear(in_features=512, out_features=512),\n",
    "            torch.nn.ReLU(),\n",
    "        )\n",
    "        self.dropout = torch.nn.Dropout(p=0.2)\n",
    "        self.fc2 = torch.nn.Linear(in_features=512, out_features=10)\n",
    "    def forward(self, x):\n",
    "        x = self.conv1(x)\n",
    "        x = self.conv2(x)\n",
    "        x = x.view(x.shape[0], -1)\n",
    "        x = self.fc1(x)\n",
    "        x = self.dropout(x)\n",
    "        x = self.fc2(x)\n",
    "        return x"
   ]
  },
  {
   "cell_type": "code",
   "execution_count": 109,
   "metadata": {},
   "outputs": [],
   "source": [
    "class AverageMeter(object):\n",
    "    \"\"\"Computes and stores the average and current value\"\"\"\n",
    "    def __init__(self):\n",
    "        self.reset()\n",
    "\n",
    "    def reset(self):\n",
    "        self.val = 0\n",
    "        self.avg = 0\n",
    "        self.sum = 0\n",
    "        self.count = 0\n",
    "\n",
    "    def update(self, val, n=1):\n",
    "        self.val = val\n",
    "        self.sum += val * n\n",
    "        self.count += n\n",
    "        self.avg = self.sum / self.count\n",
    "\n",
    "\n",
    "def train_ConvNet(model, train_loader, val_loader, epoch=10, lr=1e-4, milestones=None, device='cuda'):\n",
    "    \n",
    "    optimizer = torch.optim.Adam(model.parameters(), lr=lr, weight_decay=1e-1)\n",
    "    if milestones is not None: lr_scheduler = torch.optim.lr_scheduler.MultiStepLR(optimizer, milestones=milestones, gamma=0.1)\n",
    "    criterion = torch.nn.CrossEntropyLoss()\n",
    "    \n",
    "    train_accs = []\n",
    "    val_accs = []\n",
    "    train_losses = []\n",
    "    val_losses = []\n",
    "    \n",
    "    for i in range(epoch):\n",
    "        train_acc = AverageMeter()\n",
    "        loss = AverageMeter()\n",
    "        \n",
    "        model.train()\n",
    "        tq = tqdm(train_loader, desc='[Train] E{:03d}'.format(i))\n",
    "        for data, labels in tq:\n",
    "            labels = labels.to(device=device)\n",
    "            output = model(data.to(device=device))\n",
    "            \n",
    "            batch_loss = criterion(output, labels)\n",
    "            batch_loss.backward()\n",
    "            loss.update(batch_loss.item())\n",
    "            optimizer.step()\n",
    "            \n",
    "            train_acc.update(torch.sum(torch.eq(torch.argmax(output, dim=1), labels)) / labels.shape[0])\n",
    "            tq.set_postfix(\n",
    "                loss='{:.4f}'.format(loss.val),\n",
    "                train_acc='{:.2f}%'.format(train_acc.avg * 100),\n",
    "                lr='{}'.format(optimizer.param_groups[0]['lr'])\n",
    "            )\n",
    "        if milestones is not None: lr_scheduler.step()\n",
    "        val_acc, val_loss = eval_ConvNet(model, val_loader, device=device)\n",
    "        train_accs.append(train_acc.avg.cpu() * 100)\n",
    "        val_accs.append(val_acc * 100)\n",
    "        train_losses.append(loss.avg)\n",
    "        val_losses.append(val_loss)\n",
    "    return model, train_accs, val_accs, train_losses, val_losses\n",
    "\n",
    "def eval_ConvNet(model, eval_loader, device='cuda'):\n",
    "    model.eval()\n",
    "    correct_num = 0\n",
    "    total_num = 0\n",
    "    criterion = torch.nn.CrossEntropyLoss()\n",
    "    loss = AverageMeter()\n",
    "    \n",
    "    for data, labels in eval_loader:\n",
    "        labels = labels.to(device=device)\n",
    "        output = model(data.to(device=device))\n",
    "        batch_loss = criterion(output, labels)\n",
    "        loss.update(batch_loss.item())\n",
    "        correct_num += torch.sum(torch.eq(torch.argmax(output, dim=1), labels)).item()\n",
    "        total_num += labels.shape[0]\n",
    "    \n",
    "    val_acc = correct_num / total_num\n",
    "    print(\"[Eval] acc = {:.2f}%, loss = {:.4f}\".format(val_acc * 100, loss.avg))\n",
    "    return val_acc, loss.avg"
   ]
  },
  {
   "cell_type": "code",
   "execution_count": 117,
   "metadata": {},
   "outputs": [],
   "source": [
    "model = ConvNet().to(device=device)\n",
    "for m in model.modules():\n",
    "    if isinstance(m, torch.nn.Linear) or isinstance(m, torch.nn.Conv2d) or isinstance(m, torch.nn.BatchNorm2d):\n",
    "        # torch.nn.init.normal_(m.weight, mean=0, std=0.0025)\n",
    "        torch.nn.init.kaiming_normal_(m.weight)\n",
    "        if m.bias is not None:\n",
    "            m.bias.data = torch.empty(m.bias.data.shape).fill_(0.1).to(device=device)\n"
   ]
  },
  {
   "cell_type": "code",
   "execution_count": 118,
   "metadata": {},
   "outputs": [
    {
     "name": "stderr",
     "output_type": "stream",
     "text": [
      "[Train] E000: 100%|██████████| 782/782 [00:13<00:00, 58.26it/s, loss=0.3191, lr=0.0001, train_acc=80.42%]\n"
     ]
    },
    {
     "name": "stdout",
     "output_type": "stream",
     "text": [
      "[Eval] acc = 92.52%, loss = 0.2527\n"
     ]
    },
    {
     "name": "stderr",
     "output_type": "stream",
     "text": [
      "[Train] E001: 100%|██████████| 782/782 [00:11<00:00, 70.69it/s, loss=0.0525, lr=0.0001, train_acc=93.17%]\n"
     ]
    },
    {
     "name": "stdout",
     "output_type": "stream",
     "text": [
      "[Eval] acc = 94.38%, loss = 0.1940\n"
     ]
    },
    {
     "name": "stderr",
     "output_type": "stream",
     "text": [
      "[Train] E002: 100%|██████████| 782/782 [00:11<00:00, 69.41it/s, loss=0.1850, lr=0.0001, train_acc=95.30%]\n"
     ]
    },
    {
     "name": "stdout",
     "output_type": "stream",
     "text": [
      "[Eval] acc = 96.21%, loss = 0.1668\n"
     ]
    },
    {
     "name": "stderr",
     "output_type": "stream",
     "text": [
      "[Train] E003: 100%|██████████| 782/782 [00:11<00:00, 69.19it/s, loss=0.2087, lr=0.0001, train_acc=95.62%]\n"
     ]
    },
    {
     "name": "stdout",
     "output_type": "stream",
     "text": [
      "[Eval] acc = 96.03%, loss = 0.1627\n"
     ]
    },
    {
     "name": "stderr",
     "output_type": "stream",
     "text": [
      "[Train] E004: 100%|██████████| 782/782 [00:11<00:00, 65.92it/s, loss=0.0487, lr=0.0001, train_acc=95.93%]\n"
     ]
    },
    {
     "name": "stdout",
     "output_type": "stream",
     "text": [
      "[Eval] acc = 97.22%, loss = 0.1479\n"
     ]
    },
    {
     "name": "stderr",
     "output_type": "stream",
     "text": [
      "[Train] E005: 100%|██████████| 782/782 [00:11<00:00, 66.87it/s, loss=0.0005, lr=0.0001, train_acc=96.52%]\n"
     ]
    },
    {
     "name": "stdout",
     "output_type": "stream",
     "text": [
      "[Eval] acc = 96.48%, loss = 0.1693\n"
     ]
    },
    {
     "name": "stderr",
     "output_type": "stream",
     "text": [
      "[Train] E006: 100%|██████████| 782/782 [00:11<00:00, 66.35it/s, loss=0.0027, lr=0.0001, train_acc=96.59%]\n"
     ]
    },
    {
     "name": "stdout",
     "output_type": "stream",
     "text": [
      "[Eval] acc = 96.99%, loss = 0.1552\n"
     ]
    },
    {
     "name": "stderr",
     "output_type": "stream",
     "text": [
      "[Train] E007: 100%|██████████| 782/782 [00:11<00:00, 68.21it/s, loss=0.0021, lr=0.0001, train_acc=96.95%]\n"
     ]
    },
    {
     "name": "stdout",
     "output_type": "stream",
     "text": [
      "[Eval] acc = 97.08%, loss = 0.1473\n"
     ]
    },
    {
     "name": "stderr",
     "output_type": "stream",
     "text": [
      "[Train] E008: 100%|██████████| 782/782 [00:11<00:00, 68.18it/s, loss=0.0136, lr=0.0001, train_acc=97.13%]\n"
     ]
    },
    {
     "name": "stdout",
     "output_type": "stream",
     "text": [
      "[Eval] acc = 97.12%, loss = 0.2004\n"
     ]
    },
    {
     "name": "stderr",
     "output_type": "stream",
     "text": [
      "[Train] E009: 100%|██████████| 782/782 [00:11<00:00, 68.33it/s, loss=0.1678, lr=0.0001, train_acc=96.95%]\n"
     ]
    },
    {
     "name": "stdout",
     "output_type": "stream",
     "text": [
      "[Eval] acc = 97.09%, loss = 0.1784\n"
     ]
    },
    {
     "name": "stderr",
     "output_type": "stream",
     "text": [
      "[Train] E010: 100%|██████████| 782/782 [00:11<00:00, 68.64it/s, loss=0.0774, lr=1e-05, train_acc=97.51%]\n"
     ]
    },
    {
     "name": "stdout",
     "output_type": "stream",
     "text": [
      "[Eval] acc = 97.67%, loss = 0.1538\n"
     ]
    },
    {
     "name": "stderr",
     "output_type": "stream",
     "text": [
      "[Train] E011: 100%|██████████| 782/782 [00:11<00:00, 68.56it/s, loss=0.0151, lr=1e-05, train_acc=97.86%]\n"
     ]
    },
    {
     "name": "stdout",
     "output_type": "stream",
     "text": [
      "[Eval] acc = 97.74%, loss = 0.1477\n"
     ]
    },
    {
     "name": "stderr",
     "output_type": "stream",
     "text": [
      "[Train] E012: 100%|██████████| 782/782 [00:11<00:00, 68.60it/s, loss=0.0024, lr=1e-05, train_acc=98.02%]\n"
     ]
    },
    {
     "name": "stdout",
     "output_type": "stream",
     "text": [
      "[Eval] acc = 97.83%, loss = 0.1423\n"
     ]
    },
    {
     "name": "stderr",
     "output_type": "stream",
     "text": [
      "[Train] E013: 100%|██████████| 782/782 [00:11<00:00, 67.23it/s, loss=0.0797, lr=1e-05, train_acc=98.20%]\n"
     ]
    },
    {
     "name": "stdout",
     "output_type": "stream",
     "text": [
      "[Eval] acc = 97.95%, loss = 0.1372\n"
     ]
    },
    {
     "name": "stderr",
     "output_type": "stream",
     "text": [
      "[Train] E014: 100%|██████████| 782/782 [00:11<00:00, 65.69it/s, loss=0.0000, lr=1e-05, train_acc=98.37%]\n"
     ]
    },
    {
     "name": "stdout",
     "output_type": "stream",
     "text": [
      "[Eval] acc = 98.02%, loss = 0.1369\n"
     ]
    },
    {
     "name": "stderr",
     "output_type": "stream",
     "text": [
      "[Train] E015: 100%|██████████| 782/782 [00:12<00:00, 61.16it/s, loss=0.0172, lr=1e-05, train_acc=98.43%]\n"
     ]
    },
    {
     "name": "stdout",
     "output_type": "stream",
     "text": [
      "[Eval] acc = 98.08%, loss = 0.1353\n"
     ]
    },
    {
     "name": "stderr",
     "output_type": "stream",
     "text": [
      "[Train] E016: 100%|██████████| 782/782 [00:13<00:00, 58.25it/s, loss=0.0000, lr=1e-05, train_acc=98.57%]\n"
     ]
    },
    {
     "name": "stdout",
     "output_type": "stream",
     "text": [
      "[Eval] acc = 98.19%, loss = 0.1311\n"
     ]
    },
    {
     "name": "stderr",
     "output_type": "stream",
     "text": [
      "[Train] E017: 100%|██████████| 782/782 [00:11<00:00, 68.23it/s, loss=0.0000, lr=1e-05, train_acc=98.69%]\n"
     ]
    },
    {
     "name": "stdout",
     "output_type": "stream",
     "text": [
      "[Eval] acc = 98.10%, loss = 0.1247\n"
     ]
    },
    {
     "name": "stderr",
     "output_type": "stream",
     "text": [
      "[Train] E018: 100%|██████████| 782/782 [00:13<00:00, 58.57it/s, loss=0.0000, lr=1e-05, train_acc=98.69%]\n"
     ]
    },
    {
     "name": "stdout",
     "output_type": "stream",
     "text": [
      "[Eval] acc = 98.01%, loss = 0.1242\n"
     ]
    },
    {
     "name": "stderr",
     "output_type": "stream",
     "text": [
      "[Train] E019: 100%|██████████| 782/782 [00:11<00:00, 67.74it/s, loss=0.0000, lr=1e-05, train_acc=98.72%]\n"
     ]
    },
    {
     "name": "stdout",
     "output_type": "stream",
     "text": [
      "[Eval] acc = 98.07%, loss = 0.1181\n"
     ]
    },
    {
     "name": "stderr",
     "output_type": "stream",
     "text": [
      "[Train] E020: 100%|██████████| 782/782 [00:11<00:00, 67.44it/s, loss=0.1439, lr=1e-05, train_acc=98.77%]\n"
     ]
    },
    {
     "name": "stdout",
     "output_type": "stream",
     "text": [
      "[Eval] acc = 98.23%, loss = 0.1197\n"
     ]
    },
    {
     "name": "stderr",
     "output_type": "stream",
     "text": [
      "[Train] E021: 100%|██████████| 782/782 [00:11<00:00, 67.70it/s, loss=0.2692, lr=1e-05, train_acc=98.80%]\n"
     ]
    },
    {
     "name": "stdout",
     "output_type": "stream",
     "text": [
      "[Eval] acc = 98.14%, loss = 0.1129\n"
     ]
    },
    {
     "name": "stderr",
     "output_type": "stream",
     "text": [
      "[Train] E022: 100%|██████████| 782/782 [00:12<00:00, 61.89it/s, loss=0.0054, lr=1e-05, train_acc=98.92%]\n"
     ]
    },
    {
     "name": "stdout",
     "output_type": "stream",
     "text": [
      "[Eval] acc = 98.29%, loss = 0.1125\n"
     ]
    },
    {
     "name": "stderr",
     "output_type": "stream",
     "text": [
      "[Train] E023: 100%|██████████| 782/782 [00:10<00:00, 72.19it/s, loss=0.0002, lr=1e-05, train_acc=98.93%]\n"
     ]
    },
    {
     "name": "stdout",
     "output_type": "stream",
     "text": [
      "[Eval] acc = 98.34%, loss = 0.1124\n"
     ]
    },
    {
     "name": "stderr",
     "output_type": "stream",
     "text": [
      "[Train] E024: 100%|██████████| 782/782 [00:11<00:00, 70.53it/s, loss=0.0019, lr=1e-05, train_acc=98.96%]\n"
     ]
    },
    {
     "name": "stdout",
     "output_type": "stream",
     "text": [
      "[Eval] acc = 98.27%, loss = 0.1138\n"
     ]
    },
    {
     "name": "stderr",
     "output_type": "stream",
     "text": [
      "[Train] E025: 100%|██████████| 782/782 [00:11<00:00, 68.35it/s, loss=0.0000, lr=1e-05, train_acc=98.99%]\n"
     ]
    },
    {
     "name": "stdout",
     "output_type": "stream",
     "text": [
      "[Eval] acc = 98.30%, loss = 0.1162\n"
     ]
    },
    {
     "name": "stderr",
     "output_type": "stream",
     "text": [
      "[Train] E026: 100%|██████████| 782/782 [00:11<00:00, 67.82it/s, loss=0.0000, lr=1e-05, train_acc=99.04%]\n"
     ]
    },
    {
     "name": "stdout",
     "output_type": "stream",
     "text": [
      "[Eval] acc = 98.40%, loss = 0.1150\n"
     ]
    },
    {
     "name": "stderr",
     "output_type": "stream",
     "text": [
      "[Train] E027: 100%|██████████| 782/782 [00:11<00:00, 67.84it/s, loss=0.0000, lr=1e-05, train_acc=99.08%]\n"
     ]
    },
    {
     "name": "stdout",
     "output_type": "stream",
     "text": [
      "[Eval] acc = 98.44%, loss = 0.1163\n"
     ]
    },
    {
     "name": "stderr",
     "output_type": "stream",
     "text": [
      "[Train] E028: 100%|██████████| 782/782 [00:11<00:00, 69.14it/s, loss=0.0063, lr=1e-05, train_acc=99.09%]\n"
     ]
    },
    {
     "name": "stdout",
     "output_type": "stream",
     "text": [
      "[Eval] acc = 98.36%, loss = 0.1159\n"
     ]
    },
    {
     "name": "stderr",
     "output_type": "stream",
     "text": [
      "[Train] E029: 100%|██████████| 782/782 [00:11<00:00, 67.57it/s, loss=0.0140, lr=1e-05, train_acc=99.08%]\n"
     ]
    },
    {
     "name": "stdout",
     "output_type": "stream",
     "text": [
      "[Eval] acc = 98.38%, loss = 0.1164\n"
     ]
    },
    {
     "name": "stderr",
     "output_type": "stream",
     "text": [
      "[Train] E030: 100%|██████████| 782/782 [00:11<00:00, 68.01it/s, loss=0.0000, lr=1.0000000000000002e-06, train_acc=99.11%]\n"
     ]
    },
    {
     "name": "stdout",
     "output_type": "stream",
     "text": [
      "[Eval] acc = 98.38%, loss = 0.1160\n"
     ]
    },
    {
     "name": "stderr",
     "output_type": "stream",
     "text": [
      "[Train] E031: 100%|██████████| 782/782 [00:11<00:00, 68.44it/s, loss=0.0002, lr=1.0000000000000002e-06, train_acc=99.10%]\n"
     ]
    },
    {
     "name": "stdout",
     "output_type": "stream",
     "text": [
      "[Eval] acc = 98.40%, loss = 0.1168\n"
     ]
    },
    {
     "name": "stderr",
     "output_type": "stream",
     "text": [
      "[Train] E032: 100%|██████████| 782/782 [00:11<00:00, 69.21it/s, loss=0.0001, lr=1.0000000000000002e-06, train_acc=99.20%]\n"
     ]
    },
    {
     "name": "stdout",
     "output_type": "stream",
     "text": [
      "[Eval] acc = 98.43%, loss = 0.1184\n"
     ]
    },
    {
     "name": "stderr",
     "output_type": "stream",
     "text": [
      "[Train] E033: 100%|██████████| 782/782 [00:11<00:00, 66.95it/s, loss=0.0000, lr=1.0000000000000002e-06, train_acc=99.13%]\n"
     ]
    },
    {
     "name": "stdout",
     "output_type": "stream",
     "text": [
      "[Eval] acc = 98.47%, loss = 0.1193\n"
     ]
    },
    {
     "name": "stderr",
     "output_type": "stream",
     "text": [
      "[Train] E034: 100%|██████████| 782/782 [00:11<00:00, 67.85it/s, loss=0.0001, lr=1.0000000000000002e-06, train_acc=99.15%]\n"
     ]
    },
    {
     "name": "stdout",
     "output_type": "stream",
     "text": [
      "[Eval] acc = 98.45%, loss = 0.1202\n"
     ]
    }
   ],
   "source": [
    "model, train_accs, val_accs, train_losses, val_losses = train_ConvNet(\n",
    "    model=model,\n",
    "    train_loader=train_loader,\n",
    "    val_loader=val_loader,\n",
    "    epoch=35,\n",
    "    lr=1e-4,\n",
    "    milestones=[10, 30],\n",
    "    device=device\n",
    ")"
   ]
  },
  {
   "cell_type": "code",
   "execution_count": 119,
   "metadata": {},
   "outputs": [
    {
     "data": {
      "image/png": "[encoded data removed]",
      "text/plain": [
       "<Figure size 640x480 with 1 Axes>"
      ]
     },
     "metadata": {},
     "output_type": "display_data"
    },
    {
     "data": {
      "image/png": "[encoded data removed]",
      "text/plain": [
       "<Figure size 640x480 with 1 Axes>"
      ]
     },
     "metadata": {},
     "output_type": "display_data"
    }
   ],
   "source": [
    "plt.plot(range(0, len(train_losses)), train_losses, label='Train Loss')\n",
    "plt.plot(range(0, len(val_losses)), val_losses, label='Val Loss')\n",
    "\n",
    "plt.xlabel(\"Epoch\")\n",
    "plt.ylabel(\"Loss\")\n",
    "\n",
    "plt.legend()\n",
    "plt.show()\n",
    "\n",
    "plt.plot(range(0, len(train_accs)), train_accs, label='Train Acc')\n",
    "plt.plot(range(0, len(val_accs)), val_accs, label='Val Acc')\n",
    "\n",
    "plt.xlabel(\"Epoch\")\n",
    "plt.ylabel(\"Accuracy\")\n",
    "\n",
    "plt.legend()\n",
    "plt.show()"
   ]
  }
 ],
 "metadata": {
  "interpreter": {
   "hash": "0b862d3b411bebd1897f55aa4d684e0f42b60116bbdfd6a5a87e0acf1839b799"
  },
  "kernelspec": {
   "display_name": "Python 3.8.5 64-bit ('base': conda)",
   "language": "python",
   "name": "python3"
  },
  "language_info": {
   "codemirror_mode": {
    "name": "ipython",
    "version": 3
   },
   "file_extension": ".py",
   "mimetype": "text/x-python",
   "name": "python",
   "nbconvert_exporter": "python",
   "pygments_lexer": "ipython3",
   "version": "3.8.5"
  },
  "orig_nbformat": 4
 },
 "nbformat": 4,
 "nbformat_minor": 2
}
